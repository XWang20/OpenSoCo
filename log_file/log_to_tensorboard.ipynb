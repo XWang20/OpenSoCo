{
 "cells": [
  {
   "cell_type": "code",
   "execution_count": null,
   "metadata": {},
   "outputs": [],
   "source": [
    "import re\n",
    "import math\n",
    "from torch.utils.tensorboard import SummaryWriter\n",
    "writer = SummaryWriter(\"./tensorboard\")"
   ]
  },
  {
   "cell_type": "code",
   "execution_count": null,
   "metadata": {},
   "outputs": [],
   "source": [
    "f = open(\"log.log\", \"r\")"
   ]
  },
  {
   "cell_type": "code",
   "execution_count": null,
   "metadata": {},
   "outputs": [],
   "source": [
    "for line in f:\n",
    "    if \"scale: \" in line:\n",
    "        pattern = r\"Iter: (\\d+) \\| loss: ([\\d\\.]+) \\| lr: ([\\d\\.e-]+), scale: ([\\d\\.]+) \\| grad_norm: ([\\w\\.-]+)\" \n",
    "        match = re.search(pattern, line)  \n",
    "        if match:\n",
    "            step = match.group(1)  \n",
    "            loss = match.group(2)  \n",
    "            lr = match.group(3)\n",
    "            loss_scale = match.group(4)  \n",
    "            grad_norm = match.group(5)\n",
    "            if grad_norm == \"inf\":  \n",
    "                grad_norm = math.inf \n",
    "            elif grad_norm == \"nan\":\n",
    "                grad_norm = math.nan\n",
    "            if int(step) < 900:\n",
    "                continue\n",
    "            writer.add_scalar(\"loss/train\", float(loss), int(step))\n",
    "            writer.add_scalar(\"grad_norm\", float(grad_norm), int(step))\n",
    "            writer.add_scalar(\"loss_scale\", float(loss_scale), int(step))\n",
    "            writer.add_scalar(\"learning_rate\", float(lr), int(step))\n",
    "        else:\n",
    "            print(line)\n",
    "\n",
    "    elif \"valid loss: \" in line:\n",
    "        pattern = r\"Iter: (\\d+) \\| valid loss: ([\\d\\.]+)\"  \n",
    "        match = re.search(pattern, line)  \n",
    "        step = match.group(1)  \n",
    "        valid_loss = match.group(2)\n",
    "        if int(step) < 900:\n",
    "            continue\n",
    "        writer.add_scalar(\"loss/dev\", float(valid_loss), int(step))"
   ]
  }
 ],
 "metadata": {
  "kernelspec": {
   "display_name": "torch",
   "language": "python",
   "name": "python3"
  },
  "language_info": {
   "codemirror_mode": {
    "name": "ipython",
    "version": 3
   },
   "file_extension": ".py",
   "mimetype": "text/x-python",
   "name": "python",
   "nbconvert_exporter": "python",
   "pygments_lexer": "ipython3",
   "version": "3.9.12"
  },
  "orig_nbformat": 4
 },
 "nbformat": 4,
 "nbformat_minor": 2
}
